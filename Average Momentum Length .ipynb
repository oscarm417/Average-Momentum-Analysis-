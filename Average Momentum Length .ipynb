{
 "cells": [
  {
   "cell_type": "code",
   "execution_count": 108,
   "id": "934fd05d",
   "metadata": {},
   "outputs": [
    {
     "name": "stdout",
     "output_type": "stream",
     "text": [
      "[*********************100%***********************]  1 of 1 completed\n"
     ]
    }
   ],
   "source": [
    "import pandas as pd\n",
    "import numpy as np\n",
    "import matplotlib.pyplot as plt\n",
    "import yfinance as yf\n",
    "from scipy.stats import poisson\n",
    "spy = yf.download('spy')\n",
    "spy['20 ma'] = spy['Adj Close'].rolling(9).mean()\n",
    "spy['50 ma'] = spy['Adj Close'].rolling(20).mean()\n",
    "spy= spy[['Adj Close','20 ma','50 ma']]\n",
    "spy = spy[50:]\n",
    "spy['combined'] = np.where((spy['20 ma'].shift(-1)< spy['50 ma'].shift(-1)) & (spy['20 ma']>spy['50 ma']),1,\n",
    "                           np.where((spy['20 ma'].shift(-1)>spy['50 ma'].shift(-1)) & (spy['20 ma']<spy['50 ma']),\n",
    "                            -1,\n",
    "                            0))"
   ]
  },
  {
   "cell_type": "code",
   "execution_count": 109,
   "id": "f2d0e996",
   "metadata": {},
   "outputs": [],
   "source": [
    "temp = 0 \n",
    "trend = False\n",
    "compilation = []\n",
    "for i in spy.index:\n",
    "    c = spy['combined'].loc[i]\n",
    "    if c == 1:#start of trend\n",
    "        trend = True\n",
    "    elif c == -1: #end of trend\n",
    "        trend = False\n",
    "        compilation.append(temp)\n",
    "        temp = 0\n",
    "    elif trend == True and c == 0 :\n",
    "        temp+=1       "
   ]
  },
  {
   "cell_type": "code",
   "execution_count": 110,
   "id": "7685d9bb",
   "metadata": {},
   "outputs": [
    {
     "data": {
      "text/plain": [
       "13.298342541436464"
      ]
     },
     "execution_count": 110,
     "metadata": {},
     "output_type": "execute_result"
    }
   ],
   "source": [
    "averageTrend = np.mean(compilation)\n",
    "averageTrend"
   ]
  },
  {
   "cell_type": "code",
   "execution_count": 111,
   "id": "69044edd",
   "metadata": {},
   "outputs": [
    {
     "data": {
      "text/plain": [
       "(array([12.,  6., 10.,  5.,  6., 17.,  8., 14., 11.,  2., 13.,  9.,  9.,\n",
       "         3.,  6., 13.,  2.,  2.,  6.,  1.,  6.,  1.,  0.,  1.,  3.,  4.,\n",
       "         0.,  1.,  2.,  2.,  1.,  0.,  0.,  1.,  1.,  1.,  0.,  1.,  0.,\n",
       "         1.]),\n",
       " array([ 0. ,  1.2,  2.4,  3.6,  4.8,  6. ,  7.2,  8.4,  9.6, 10.8, 12. ,\n",
       "        13.2, 14.4, 15.6, 16.8, 18. , 19.2, 20.4, 21.6, 22.8, 24. , 25.2,\n",
       "        26.4, 27.6, 28.8, 30. , 31.2, 32.4, 33.6, 34.8, 36. , 37.2, 38.4,\n",
       "        39.6, 40.8, 42. , 43.2, 44.4, 45.6, 46.8, 48. ]),\n",
       " <BarContainer object of 40 artists>)"
      ]
     },
     "execution_count": 111,
     "metadata": {},
     "output_type": "execute_result"
    },
    {
     "data": {
      "image/png": "[encoded data removed]",
      "text/plain": [
       "<Figure size 432x288 with 1 Axes>"
      ]
     },
     "metadata": {
      "needs_background": "light"
     },
     "output_type": "display_data"
    }
   ],
   "source": [
    "plt.hist(compilation, bins = 40)"
   ]
  },
  {
   "cell_type": "code",
   "execution_count": 112,
   "id": "b94e06cd",
   "metadata": {},
   "outputs": [
    {
     "data": {
      "text/plain": [
       "86.43922651933701"
      ]
     },
     "execution_count": 112,
     "metadata": {},
     "output_type": "execute_result"
    }
   ],
   "source": [
    "trendHours = 6.5 * averageTrend\n",
    "trendHours"
   ]
  },
  {
   "cell_type": "markdown",
   "id": "54512dc4",
   "metadata": {},
   "source": [
    "# Buy at 6 days of clear momentum, and sell at day 13?"
   ]
  },
  {
   "cell_type": "code",
   "execution_count": null,
   "id": "d6561150",
   "metadata": {},
   "outputs": [],
   "source": []
  }
 ],
 "metadata": {
  "kernelspec": {
   "display_name": "Python 3",
   "language": "python",
   "name": "python3"
  },
  "language_info": {
   "codemirror_mode": {
    "name": "ipython",
    "version": 3
   },
   "file_extension": ".py",
   "mimetype": "text/x-python",
   "name": "python",
   "nbconvert_exporter": "python",
   "pygments_lexer": "ipython3",
   "version": "3.8.8"
  }
 },
 "nbformat": 4,
 "nbformat_minor": 5
}
